{
 "cells": [
  {
   "cell_type": "code",
   "execution_count": 1,
   "id": "38ee68f6",
   "metadata": {},
   "outputs": [
    {
     "name": "stdout",
     "output_type": "stream",
     "text": [
      "📤 Connected to Valkey at localhost:6379. Publishing on 'trades'...\n",
      "🆕 Published batch from Asteroid: {\"timestamp\": 1750929097, \"trader\": \"Asteroid\", \"actions\": [{\"crypto\": \"ADA\", \"action\": \"sell\", \"quantity\": 3.21}]}\n",
      "🆕 Published batch from Exoplanet: {\"timestamp\": 1750929099, \"trader\": \"Exoplanet\", \"actions\": [{\"crypto\": \"XRP\", \"action\": \"buy\", \"quantity\": 0.13}, {\"crypto\": \"ADA\", \"action\": \"buy\", \"quantity\": 0.84}]}\n",
      "🆕 Published batch from Asteroid: {\"timestamp\": 1750929120, \"trader\": \"Asteroid\", \"actions\": [{\"crypto\": \"ADA\", \"action\": \"sell\", \"quantity\": 0.05}]}\n",
      "🆕 Published batch from Exoplanet: {\"timestamp\": 1750929120, \"trader\": \"Exoplanet\", \"actions\": [{\"crypto\": \"ADA\", \"action\": \"buy\", \"quantity\": 8.4}, {\"crypto\": \"ETH\", \"action\": \"sell\", \"quantity\": 7.9}]}\n",
      "\n",
      "❌ Publisher stopped gracefully.\n"
     ]
    }
   ],
   "source": [
    "from valkey_trader import TradePublisherDemo\n",
    "\n",
    "publisher = TradePublisherDemo()\n",
    "publisher.run()\n"
   ]
  }
 ],
 "metadata": {
  "kernelspec": {
   "display_name": "valkey",
   "language": "python",
   "name": "python3"
  },
  "language_info": {
   "codemirror_mode": {
    "name": "ipython",
    "version": 3
   },
   "file_extension": ".py",
   "mimetype": "text/x-python",
   "name": "python",
   "nbconvert_exporter": "python",
   "pygments_lexer": "ipython3",
   "version": "3.12.11"
  }
 },
 "nbformat": 4,
 "nbformat_minor": 5
}
