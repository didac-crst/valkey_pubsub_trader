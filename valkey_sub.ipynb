{
 "cells": [
  {
   "cell_type": "code",
   "execution_count": 1,
   "id": "cefb4008",
   "metadata": {},
   "outputs": [
    {
     "name": "stdout",
     "output_type": "stream",
     "text": [
      "🔊 Listening on 'trades'...\n",
      "🆕 Incoming from Asteroid at 1750929097: 1 action(s)\n",
      "  - SELL → ADA (Quantity: 3.21)\n",
      "🆕 Incoming from Exoplanet at 1750929099: 2 action(s)\n",
      "  - BUY → XRP (Quantity: 0.13)\n",
      "  - BUY → ADA (Quantity: 0.84)\n",
      "\n",
      "📦 Next trading batch at 1750929102 from 2 trader(s), 3 action(s):\n",
      "  1. SELL → ADA (Quantity: 3.21) from Asteroid at 1750929097\n",
      "  2. BUY → XRP (Quantity: 0.13) from Exoplanet at 1750929099\n",
      "  3. BUY → ADA (Quantity: 0.84) from Exoplanet at 1750929099\n",
      "✅ [Time:1750929107.5292823] Executed SELL for ADA (3.21) by Asteroid at 1750929097\n",
      "✅ [Time:1750929107.5296562] Executed BUY for XRP (0.13) by Exoplanet at 1750929099\n",
      "✅ [Time:1750929107.5298245] Executed BUY for ADA (0.84) by Exoplanet at 1750929099\n",
      "\n",
      "📦 Next trading batch at 1750929112 from 0 trader(s), 0 action(s):\n",
      "🆕 Incoming from Asteroid at 1750929120: 1 action(s)\n",
      "  - SELL → ADA (Quantity: 0.05)\n",
      "🆕 Incoming from Exoplanet at 1750929120: 2 action(s)\n",
      "  - BUY → ADA (Quantity: 8.4)\n",
      "  - SELL → ETH (Quantity: 7.9)\n",
      "\n",
      "📦 Next trading batch at 1750929123 from 2 trader(s), 3 action(s):\n",
      "  1. SELL → ADA (Quantity: 0.05) from Asteroid at 1750929120\n",
      "  2. BUY → ADA (Quantity: 8.4) from Exoplanet at 1750929120\n",
      "  3. SELL → ETH (Quantity: 7.9) from Exoplanet at 1750929120\n",
      "✅ [Time:1750929128.5362318] Executed SELL for ADA (0.05) by Asteroid at 1750929120\n",
      "✅ [Time:1750929128.5365446] Executed BUY for ADA (8.4) by Exoplanet at 1750929120\n",
      "✅ [Time:1750929128.5367062] Executed SELL for ETH (7.9) by Exoplanet at 1750929120\n",
      "\n",
      "📦 Next trading batch at 1750929133 from 0 trader(s), 0 action(s):\n",
      "Stopping...\n",
      "❌ Listener thread crashed: I/O operation on closed file.\n"
     ]
    }
   ],
   "source": [
    "from valkey_trader import TradeSubscriber\n",
    "\n",
    "subscriber = TradeSubscriber()\n",
    "subscriber.start()"
   ]
  }
 ],
 "metadata": {
  "kernelspec": {
   "display_name": "valkey",
   "language": "python",
   "name": "python3"
  },
  "language_info": {
   "codemirror_mode": {
    "name": "ipython",
    "version": 3
   },
   "file_extension": ".py",
   "mimetype": "text/x-python",
   "name": "python",
   "nbconvert_exporter": "python",
   "pygments_lexer": "ipython3",
   "version": "3.12.11"
  }
 },
 "nbformat": 4,
 "nbformat_minor": 5
}
