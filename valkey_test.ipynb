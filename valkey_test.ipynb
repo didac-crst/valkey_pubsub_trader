{
 "cells": [
  {
   "cell_type": "code",
   "execution_count": 5,
   "id": "d29537e2",
   "metadata": {},
   "outputs": [
    {
     "name": "stdout",
     "output_type": "stream",
     "text": [
      "valkey-is-working\n",
      "Value for 'mykey': b'valkey-is-working'\n"
     ]
    }
   ],
   "source": [
    "import redis\n",
    "\n",
    "client = redis.Redis(host='localhost', port=6379)\n",
    "\n",
    "client.set('mykey', 'valkey-is-working')\n",
    "print(client.get('mykey').decode())\n",
    "\n",
    "value = client.get('mykey')\n",
    "print(f\"Value for 'mykey': {value}\")"
   ]
  },
  {
   "cell_type": "code",
   "execution_count": 6,
   "id": "0dc1fad8",
   "metadata": {},
   "outputs": [
    {
     "name": "stdout",
     "output_type": "stream",
     "text": [
      "['cherry', 'banana', 'apple']\n",
      "apple\n",
      "cherry\n"
     ]
    }
   ],
   "source": [
    "# Clear existing list (optional, for clean testing)\n",
    "client.delete('mylist')\n",
    "\n",
    "# Push items to the list (left side = head)\n",
    "client.lpush('mylist', 'apple')\n",
    "client.lpush('mylist', 'banana')\n",
    "client.lpush('mylist', 'cherry')\n",
    "\n",
    "# The list now: cherry, banana, apple (left → right)\n",
    "\n",
    "# Get all elements\n",
    "all_items = client.lrange('mylist', 0, -1)\n",
    "print([item.decode() for item in all_items])  # Output: ['cherry', 'banana', 'apple']\n",
    "\n",
    "# Pop from right (tail)\n",
    "last = client.rpop('mylist')\n",
    "print(last.decode())  # Output: apple\n",
    "\n",
    "# Pop from left (head)\n",
    "first = client.lpop('mylist')\n",
    "print(first.decode())  # Output: cherry"
   ]
  },
  {
   "cell_type": "code",
   "execution_count": 8,
   "id": "3b5ce9d7",
   "metadata": {},
   "outputs": [
    {
     "name": "stdout",
     "output_type": "stream",
     "text": [
      "Listening on 'trades'...\n",
      "Received: {\"timestamp\": 1750926839, \"trader\": \"Asteroid\", \"actions\": [{\"crypto\": \"BTC\", \"action\": \"buy\", \"quantity\": 5.37}]}\n",
      "Received: {\"timestamp\": 1750926841, \"trader\": \"Exoplanet\", \"actions\": [{\"crypto\": \"XRP\", \"action\": \"sell\", \"quantity\": 6.46}]}\n",
      "Received: {\"timestamp\": 1750926862, \"trader\": \"Asteroid\", \"actions\": [{\"crypto\": \"SOL\", \"action\": \"sell\", \"quantity\": 2.56}, {\"crypto\": \"ETH\", \"action\": \"sell\", \"quantity\": 9.4}]}\n",
      "Received: {\"timestamp\": 1750926864, \"trader\": \"Exoplanet\", \"actions\": [{\"crypto\": \"XRP\", \"action\": \"buy\", \"quantity\": 7.0}, {\"crypto\": \"XRP\", \"action\": \"buy\", \"quantity\": 4.01}]}\n",
      "Received: {\"timestamp\": 1750926886, \"trader\": \"Asteroid\", \"actions\": [{\"crypto\": \"SOL\", \"action\": \"sell\", \"quantity\": 0.36}, {\"crypto\": \"ETH\", \"action\": \"sell\", \"quantity\": 3.56}]}\n",
      "Received: {\"timestamp\": 1750926886, \"trader\": \"Exoplanet\", \"actions\": [{\"crypto\": \"BTC\", \"action\": \"sell\", \"quantity\": 4.81}, {\"crypto\": \"BTC\", \"action\": \"buy\", \"quantity\": 9.81}]}\n",
      "Received: {\"timestamp\": 1750926907, \"trader\": \"Asteroid\", \"actions\": [{\"crypto\": \"ETH\", \"action\": \"sell\", \"quantity\": 0.68}]}\n",
      "Received: {\"timestamp\": 1750926908, \"trader\": \"Exoplanet\", \"actions\": [{\"crypto\": \"BTC\", \"action\": \"sell\", \"quantity\": 8.86}]}\n"
     ]
    },
    {
     "ename": "KeyboardInterrupt",
     "evalue": "",
     "output_type": "error",
     "traceback": [
      "\u001b[31m---------------------------------------------------------------------------\u001b[39m",
      "\u001b[31mKeyboardInterrupt\u001b[39m                         Traceback (most recent call last)",
      "\u001b[36mCell\u001b[39m\u001b[36m \u001b[39m\u001b[32mIn[8]\u001b[39m\u001b[32m, line 6\u001b[39m\n\u001b[32m      2\u001b[39m pubsub.subscribe(\u001b[33m'\u001b[39m\u001b[33mtrades\u001b[39m\u001b[33m'\u001b[39m)\n\u001b[32m      4\u001b[39m \u001b[38;5;28mprint\u001b[39m(\u001b[33m\"\u001b[39m\u001b[33mListening on \u001b[39m\u001b[33m'\u001b[39m\u001b[33mtrades\u001b[39m\u001b[33m'\u001b[39m\u001b[33m...\u001b[39m\u001b[33m\"\u001b[39m)\n\u001b[32m----> \u001b[39m\u001b[32m6\u001b[39m \u001b[38;5;28;43;01mfor\u001b[39;49;00m\u001b[43m \u001b[49m\u001b[43mmessage\u001b[49m\u001b[43m \u001b[49m\u001b[38;5;129;43;01min\u001b[39;49;00m\u001b[43m \u001b[49m\u001b[43mpubsub\u001b[49m\u001b[43m.\u001b[49m\u001b[43mlisten\u001b[49m\u001b[43m(\u001b[49m\u001b[43m)\u001b[49m\u001b[43m:\u001b[49m\n\u001b[32m      7\u001b[39m \u001b[43m    \u001b[49m\u001b[38;5;28;43;01mif\u001b[39;49;00m\u001b[43m \u001b[49m\u001b[43mmessage\u001b[49m\u001b[43m[\u001b[49m\u001b[33;43m'\u001b[39;49m\u001b[33;43mtype\u001b[39;49m\u001b[33;43m'\u001b[39;49m\u001b[43m]\u001b[49m\u001b[43m \u001b[49m\u001b[43m==\u001b[49m\u001b[43m \u001b[49m\u001b[33;43m'\u001b[39;49m\u001b[33;43mmessage\u001b[39;49m\u001b[33;43m'\u001b[39;49m\u001b[43m:\u001b[49m\n\u001b[32m      8\u001b[39m \u001b[43m        \u001b[49m\u001b[38;5;28;43mprint\u001b[39;49m\u001b[43m(\u001b[49m\u001b[33;43mf\u001b[39;49m\u001b[33;43m\"\u001b[39;49m\u001b[33;43mReceived: \u001b[39;49m\u001b[38;5;132;43;01m{\u001b[39;49;00m\u001b[43mmessage\u001b[49m\u001b[43m[\u001b[49m\u001b[33;43m'\u001b[39;49m\u001b[33;43mdata\u001b[39;49m\u001b[33;43m'\u001b[39;49m\u001b[43m]\u001b[49m\u001b[43m.\u001b[49m\u001b[43mdecode\u001b[49m\u001b[43m(\u001b[49m\u001b[43m)\u001b[49m\u001b[38;5;132;43;01m}\u001b[39;49;00m\u001b[33;43m\"\u001b[39;49m\u001b[43m)\u001b[49m\n",
      "\u001b[36mFile \u001b[39m\u001b[32m~/miniconda3/envs/valkey/lib/python3.12/site-packages/redis/client.py:1103\u001b[39m, in \u001b[36mPubSub.listen\u001b[39m\u001b[34m(self)\u001b[39m\n\u001b[32m   1101\u001b[39m \u001b[33m\"\u001b[39m\u001b[33mListen for messages on channels this client has been subscribed to\u001b[39m\u001b[33m\"\u001b[39m\n\u001b[32m   1102\u001b[39m \u001b[38;5;28;01mwhile\u001b[39;00m \u001b[38;5;28mself\u001b[39m.subscribed:\n\u001b[32m-> \u001b[39m\u001b[32m1103\u001b[39m     response = \u001b[38;5;28mself\u001b[39m.handle_message(\u001b[38;5;28;43mself\u001b[39;49m\u001b[43m.\u001b[49m\u001b[43mparse_response\u001b[49m\u001b[43m(\u001b[49m\u001b[43mblock\u001b[49m\u001b[43m=\u001b[49m\u001b[38;5;28;43;01mTrue\u001b[39;49;00m\u001b[43m)\u001b[49m)\n\u001b[32m   1104\u001b[39m     \u001b[38;5;28;01mif\u001b[39;00m response \u001b[38;5;129;01mis\u001b[39;00m \u001b[38;5;129;01mnot\u001b[39;00m \u001b[38;5;28;01mNone\u001b[39;00m:\n\u001b[32m   1105\u001b[39m         \u001b[38;5;28;01myield\u001b[39;00m response\n",
      "\u001b[36mFile \u001b[39m\u001b[32m~/miniconda3/envs/valkey/lib/python3.12/site-packages/redis/client.py:942\u001b[39m, in \u001b[36mPubSub.parse_response\u001b[39m\u001b[34m(self, block, timeout)\u001b[39m\n\u001b[32m    939\u001b[39m         conn.connect()\n\u001b[32m    940\u001b[39m     \u001b[38;5;28;01mreturn\u001b[39;00m conn.read_response(disconnect_on_error=\u001b[38;5;28;01mFalse\u001b[39;00m, push_request=\u001b[38;5;28;01mTrue\u001b[39;00m)\n\u001b[32m--> \u001b[39m\u001b[32m942\u001b[39m response = \u001b[38;5;28;43mself\u001b[39;49m\u001b[43m.\u001b[49m\u001b[43m_execute\u001b[49m\u001b[43m(\u001b[49m\u001b[43mconn\u001b[49m\u001b[43m,\u001b[49m\u001b[43m \u001b[49m\u001b[43mtry_read\u001b[49m\u001b[43m)\u001b[49m\n\u001b[32m    944\u001b[39m \u001b[38;5;28;01mif\u001b[39;00m \u001b[38;5;28mself\u001b[39m.is_health_check_response(response):\n\u001b[32m    945\u001b[39m     \u001b[38;5;66;03m# ignore the health check message as user might not expect it\u001b[39;00m\n\u001b[32m    946\u001b[39m     \u001b[38;5;28mself\u001b[39m.health_check_response_counter -= \u001b[32m1\u001b[39m\n",
      "\u001b[36mFile \u001b[39m\u001b[32m~/miniconda3/envs/valkey/lib/python3.12/site-packages/redis/client.py:918\u001b[39m, in \u001b[36mPubSub._execute\u001b[39m\u001b[34m(self, conn, command, *args, **kwargs)\u001b[39m\n\u001b[32m    910\u001b[39m \u001b[38;5;28;01mdef\u001b[39;00m\u001b[38;5;250m \u001b[39m\u001b[34m_execute\u001b[39m(\u001b[38;5;28mself\u001b[39m, conn, command, *args, **kwargs):\n\u001b[32m    911\u001b[39m \u001b[38;5;250m    \u001b[39m\u001b[33;03m\"\"\"\u001b[39;00m\n\u001b[32m    912\u001b[39m \u001b[33;03m    Connect manually upon disconnection. If the Redis server is down,\u001b[39;00m\n\u001b[32m    913\u001b[39m \u001b[33;03m    this will fail and raise a ConnectionError as desired.\u001b[39;00m\n\u001b[32m   (...)\u001b[39m\u001b[32m    916\u001b[39m \u001b[33;03m    patterns we were previously listening to\u001b[39;00m\n\u001b[32m    917\u001b[39m \u001b[33;03m    \"\"\"\u001b[39;00m\n\u001b[32m--> \u001b[39m\u001b[32m918\u001b[39m     \u001b[38;5;28;01mreturn\u001b[39;00m \u001b[43mconn\u001b[49m\u001b[43m.\u001b[49m\u001b[43mretry\u001b[49m\u001b[43m.\u001b[49m\u001b[43mcall_with_retry\u001b[49m\u001b[43m(\u001b[49m\n\u001b[32m    919\u001b[39m \u001b[43m        \u001b[49m\u001b[38;5;28;43;01mlambda\u001b[39;49;00m\u001b[43m:\u001b[49m\u001b[43m \u001b[49m\u001b[43mcommand\u001b[49m\u001b[43m(\u001b[49m\u001b[43m*\u001b[49m\u001b[43margs\u001b[49m\u001b[43m,\u001b[49m\u001b[43m \u001b[49m\u001b[43m*\u001b[49m\u001b[43m*\u001b[49m\u001b[43mkwargs\u001b[49m\u001b[43m)\u001b[49m\u001b[43m,\u001b[49m\n\u001b[32m    920\u001b[39m \u001b[43m        \u001b[49m\u001b[38;5;28;43;01mlambda\u001b[39;49;00m\u001b[43m \u001b[49m\u001b[43m_\u001b[49m\u001b[43m:\u001b[49m\u001b[43m \u001b[49m\u001b[38;5;28;43mself\u001b[39;49m\u001b[43m.\u001b[49m\u001b[43m_reconnect\u001b[49m\u001b[43m(\u001b[49m\u001b[43mconn\u001b[49m\u001b[43m)\u001b[49m\u001b[43m,\u001b[49m\n\u001b[32m    921\u001b[39m \u001b[43m    \u001b[49m\u001b[43m)\u001b[49m\n",
      "\u001b[36mFile \u001b[39m\u001b[32m~/miniconda3/envs/valkey/lib/python3.12/site-packages/redis/retry.py:87\u001b[39m, in \u001b[36mRetry.call_with_retry\u001b[39m\u001b[34m(self, do, fail)\u001b[39m\n\u001b[32m     85\u001b[39m \u001b[38;5;28;01mwhile\u001b[39;00m \u001b[38;5;28;01mTrue\u001b[39;00m:\n\u001b[32m     86\u001b[39m     \u001b[38;5;28;01mtry\u001b[39;00m:\n\u001b[32m---> \u001b[39m\u001b[32m87\u001b[39m         \u001b[38;5;28;01mreturn\u001b[39;00m \u001b[43mdo\u001b[49m\u001b[43m(\u001b[49m\u001b[43m)\u001b[49m\n\u001b[32m     88\u001b[39m     \u001b[38;5;28;01mexcept\u001b[39;00m \u001b[38;5;28mself\u001b[39m._supported_errors \u001b[38;5;28;01mas\u001b[39;00m error:\n\u001b[32m     89\u001b[39m         failures += \u001b[32m1\u001b[39m\n",
      "\u001b[36mFile \u001b[39m\u001b[32m~/miniconda3/envs/valkey/lib/python3.12/site-packages/redis/client.py:919\u001b[39m, in \u001b[36mPubSub._execute.<locals>.<lambda>\u001b[39m\u001b[34m()\u001b[39m\n\u001b[32m    910\u001b[39m \u001b[38;5;28;01mdef\u001b[39;00m\u001b[38;5;250m \u001b[39m\u001b[34m_execute\u001b[39m(\u001b[38;5;28mself\u001b[39m, conn, command, *args, **kwargs):\n\u001b[32m    911\u001b[39m \u001b[38;5;250m    \u001b[39m\u001b[33;03m\"\"\"\u001b[39;00m\n\u001b[32m    912\u001b[39m \u001b[33;03m    Connect manually upon disconnection. If the Redis server is down,\u001b[39;00m\n\u001b[32m    913\u001b[39m \u001b[33;03m    this will fail and raise a ConnectionError as desired.\u001b[39;00m\n\u001b[32m   (...)\u001b[39m\u001b[32m    916\u001b[39m \u001b[33;03m    patterns we were previously listening to\u001b[39;00m\n\u001b[32m    917\u001b[39m \u001b[33;03m    \"\"\"\u001b[39;00m\n\u001b[32m    918\u001b[39m     \u001b[38;5;28;01mreturn\u001b[39;00m conn.retry.call_with_retry(\n\u001b[32m--> \u001b[39m\u001b[32m919\u001b[39m         \u001b[38;5;28;01mlambda\u001b[39;00m: \u001b[43mcommand\u001b[49m\u001b[43m(\u001b[49m\u001b[43m*\u001b[49m\u001b[43margs\u001b[49m\u001b[43m,\u001b[49m\u001b[43m \u001b[49m\u001b[43m*\u001b[49m\u001b[43m*\u001b[49m\u001b[43mkwargs\u001b[49m\u001b[43m)\u001b[49m,\n\u001b[32m    920\u001b[39m         \u001b[38;5;28;01mlambda\u001b[39;00m _: \u001b[38;5;28mself\u001b[39m._reconnect(conn),\n\u001b[32m    921\u001b[39m     )\n",
      "\u001b[36mFile \u001b[39m\u001b[32m~/miniconda3/envs/valkey/lib/python3.12/site-packages/redis/client.py:940\u001b[39m, in \u001b[36mPubSub.parse_response.<locals>.try_read\u001b[39m\u001b[34m()\u001b[39m\n\u001b[32m    938\u001b[39m \u001b[38;5;28;01melse\u001b[39;00m:\n\u001b[32m    939\u001b[39m     conn.connect()\n\u001b[32m--> \u001b[39m\u001b[32m940\u001b[39m \u001b[38;5;28;01mreturn\u001b[39;00m \u001b[43mconn\u001b[49m\u001b[43m.\u001b[49m\u001b[43mread_response\u001b[49m\u001b[43m(\u001b[49m\u001b[43mdisconnect_on_error\u001b[49m\u001b[43m=\u001b[49m\u001b[38;5;28;43;01mFalse\u001b[39;49;00m\u001b[43m,\u001b[49m\u001b[43m \u001b[49m\u001b[43mpush_request\u001b[49m\u001b[43m=\u001b[49m\u001b[38;5;28;43;01mTrue\u001b[39;49;00m\u001b[43m)\u001b[49m\n",
      "\u001b[36mFile \u001b[39m\u001b[32m~/miniconda3/envs/valkey/lib/python3.12/site-packages/redis/connection.py:644\u001b[39m, in \u001b[36mAbstractConnection.read_response\u001b[39m\u001b[34m(self, disable_decoding, disconnect_on_error, push_request)\u001b[39m\n\u001b[32m    640\u001b[39m         response = \u001b[38;5;28mself\u001b[39m._parser.read_response(\n\u001b[32m    641\u001b[39m             disable_decoding=disable_decoding, push_request=push_request\n\u001b[32m    642\u001b[39m         )\n\u001b[32m    643\u001b[39m     \u001b[38;5;28;01melse\u001b[39;00m:\n\u001b[32m--> \u001b[39m\u001b[32m644\u001b[39m         response = \u001b[38;5;28;43mself\u001b[39;49m\u001b[43m.\u001b[49m\u001b[43m_parser\u001b[49m\u001b[43m.\u001b[49m\u001b[43mread_response\u001b[49m\u001b[43m(\u001b[49m\u001b[43mdisable_decoding\u001b[49m\u001b[43m=\u001b[49m\u001b[43mdisable_decoding\u001b[49m\u001b[43m)\u001b[49m\n\u001b[32m    645\u001b[39m \u001b[38;5;28;01mexcept\u001b[39;00m socket.timeout:\n\u001b[32m    646\u001b[39m     \u001b[38;5;28;01mif\u001b[39;00m disconnect_on_error:\n",
      "\u001b[36mFile \u001b[39m\u001b[32m~/miniconda3/envs/valkey/lib/python3.12/site-packages/redis/_parsers/resp2.py:15\u001b[39m, in \u001b[36m_RESP2Parser.read_response\u001b[39m\u001b[34m(self, disable_decoding)\u001b[39m\n\u001b[32m     13\u001b[39m pos = \u001b[38;5;28mself\u001b[39m._buffer.get_pos() \u001b[38;5;28;01mif\u001b[39;00m \u001b[38;5;28mself\u001b[39m._buffer \u001b[38;5;28;01melse\u001b[39;00m \u001b[38;5;28;01mNone\u001b[39;00m\n\u001b[32m     14\u001b[39m \u001b[38;5;28;01mtry\u001b[39;00m:\n\u001b[32m---> \u001b[39m\u001b[32m15\u001b[39m     result = \u001b[38;5;28;43mself\u001b[39;49m\u001b[43m.\u001b[49m\u001b[43m_read_response\u001b[49m\u001b[43m(\u001b[49m\u001b[43mdisable_decoding\u001b[49m\u001b[43m=\u001b[49m\u001b[43mdisable_decoding\u001b[49m\u001b[43m)\u001b[49m\n\u001b[32m     16\u001b[39m \u001b[38;5;28;01mexcept\u001b[39;00m \u001b[38;5;167;01mBaseException\u001b[39;00m:\n\u001b[32m     17\u001b[39m     \u001b[38;5;28;01mif\u001b[39;00m \u001b[38;5;28mself\u001b[39m._buffer:\n",
      "\u001b[36mFile \u001b[39m\u001b[32m~/miniconda3/envs/valkey/lib/python3.12/site-packages/redis/_parsers/resp2.py:25\u001b[39m, in \u001b[36m_RESP2Parser._read_response\u001b[39m\u001b[34m(self, disable_decoding)\u001b[39m\n\u001b[32m     24\u001b[39m \u001b[38;5;28;01mdef\u001b[39;00m\u001b[38;5;250m \u001b[39m\u001b[34m_read_response\u001b[39m(\u001b[38;5;28mself\u001b[39m, disable_decoding=\u001b[38;5;28;01mFalse\u001b[39;00m):\n\u001b[32m---> \u001b[39m\u001b[32m25\u001b[39m     raw = \u001b[38;5;28;43mself\u001b[39;49m\u001b[43m.\u001b[49m\u001b[43m_buffer\u001b[49m\u001b[43m.\u001b[49m\u001b[43mreadline\u001b[49m\u001b[43m(\u001b[49m\u001b[43m)\u001b[49m\n\u001b[32m     26\u001b[39m     \u001b[38;5;28;01mif\u001b[39;00m \u001b[38;5;129;01mnot\u001b[39;00m raw:\n\u001b[32m     27\u001b[39m         \u001b[38;5;28;01mraise\u001b[39;00m \u001b[38;5;167;01mConnectionError\u001b[39;00m(SERVER_CLOSED_CONNECTION_ERROR)\n",
      "\u001b[36mFile \u001b[39m\u001b[32m~/miniconda3/envs/valkey/lib/python3.12/site-packages/redis/_parsers/socket.py:115\u001b[39m, in \u001b[36mSocketBuffer.readline\u001b[39m\u001b[34m(self)\u001b[39m\n\u001b[32m    112\u001b[39m data = buf.readline()\n\u001b[32m    113\u001b[39m \u001b[38;5;28;01mwhile\u001b[39;00m \u001b[38;5;129;01mnot\u001b[39;00m data.endswith(SYM_CRLF):\n\u001b[32m    114\u001b[39m     \u001b[38;5;66;03m# there's more data in the socket that we need\u001b[39;00m\n\u001b[32m--> \u001b[39m\u001b[32m115\u001b[39m     \u001b[38;5;28;43mself\u001b[39;49m\u001b[43m.\u001b[49m\u001b[43m_read_from_socket\u001b[49m\u001b[43m(\u001b[49m\u001b[43m)\u001b[49m\n\u001b[32m    116\u001b[39m     data += buf.readline()\n\u001b[32m    118\u001b[39m \u001b[38;5;28;01mreturn\u001b[39;00m data[:-\u001b[32m2\u001b[39m]\n",
      "\u001b[36mFile \u001b[39m\u001b[32m~/miniconda3/envs/valkey/lib/python3.12/site-packages/redis/_parsers/socket.py:65\u001b[39m, in \u001b[36mSocketBuffer._read_from_socket\u001b[39m\u001b[34m(self, length, timeout, raise_on_timeout)\u001b[39m\n\u001b[32m     63\u001b[39m \u001b[38;5;28;01mtry\u001b[39;00m:\n\u001b[32m     64\u001b[39m     \u001b[38;5;28;01mwhile\u001b[39;00m \u001b[38;5;28;01mTrue\u001b[39;00m:\n\u001b[32m---> \u001b[39m\u001b[32m65\u001b[39m         data = \u001b[38;5;28;43mself\u001b[39;49m\u001b[43m.\u001b[49m\u001b[43m_sock\u001b[49m\u001b[43m.\u001b[49m\u001b[43mrecv\u001b[49m\u001b[43m(\u001b[49m\u001b[43msocket_read_size\u001b[49m\u001b[43m)\u001b[49m\n\u001b[32m     66\u001b[39m         \u001b[38;5;66;03m# an empty string indicates the server shutdown the socket\u001b[39;00m\n\u001b[32m     67\u001b[39m         \u001b[38;5;28;01mif\u001b[39;00m \u001b[38;5;28misinstance\u001b[39m(data, \u001b[38;5;28mbytes\u001b[39m) \u001b[38;5;129;01mand\u001b[39;00m \u001b[38;5;28mlen\u001b[39m(data) == \u001b[32m0\u001b[39m:\n",
      "\u001b[31mKeyboardInterrupt\u001b[39m: "
     ]
    }
   ],
   "source": [
    "pubsub = client.pubsub()\n",
    "pubsub.subscribe('trades')\n",
    "\n",
    "print(\"Listening on 'trades'...\")\n",
    "\n",
    "for message in pubsub.listen():\n",
    "    if message['type'] == 'message':\n",
    "        print(f\"Received: {message['data'].decode()}\")\n"
   ]
  },
  {
   "cell_type": "code",
   "execution_count": null,
   "id": "376ae74a",
   "metadata": {},
   "outputs": [],
   "source": []
  }
 ],
 "metadata": {
  "kernelspec": {
   "display_name": "valkey",
   "language": "python",
   "name": "python3"
  },
  "language_info": {
   "codemirror_mode": {
    "name": "ipython",
    "version": 3
   },
   "file_extension": ".py",
   "mimetype": "text/x-python",
   "name": "python",
   "nbconvert_exporter": "python",
   "pygments_lexer": "ipython3",
   "version": "3.12.11"
  }
 },
 "nbformat": 4,
 "nbformat_minor": 5
}
